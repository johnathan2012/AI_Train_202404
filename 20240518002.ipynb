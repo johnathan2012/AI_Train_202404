{
 "cells": [
  {
   "cell_type": "code",
   "execution_count": 11,
   "metadata": {},
   "outputs": [
    {
     "name": "stdout",
     "output_type": "stream",
     "text": [
      "Johnathan\n",
      "I am a person named \n",
      "\n",
      "Catherine\n",
      "I am a person named \n"
     ]
    }
   ],
   "source": [
    "class Person():\n",
    "    def __init__(self,n):\n",
    "        self.name = n\n",
    "        \n",
    "    def __repr__(self):\n",
    "            return \"I am a person named \"\n",
    "\n",
    "p1=Person(\"Johnathan\")\n",
    "print(p1.name)\n",
    "print(p1)\n",
    "print()\n",
    "p2=Person(\"Catherine\")\n",
    "print(p2.name)\n",
    "print(p2)"
   ]
  },
  {
   "cell_type": "code",
   "execution_count": 8,
   "metadata": {},
   "outputs": [
    {
     "name": "stdout",
     "output_type": "stream",
     "text": [
      "<__main__.Person object at 0x7002de389e10>\n",
      "<__main__.Person object at 0x7002dee668f0>\n"
     ]
    }
   ],
   "source": [
    "print(p1)\n",
    "print(p2)"
   ]
  },
  {
   "cell_type": "code",
   "execution_count": 9,
   "metadata": {},
   "outputs": [
    {
     "name": "stdout",
     "output_type": "stream",
     "text": [
      "徐國堂\n",
      "Robert Hsu\n"
     ]
    }
   ],
   "source": [
    "class Person():\n",
    "    def __init__(self,n): #自訂的初始化\n",
    "        self.name = n #建立attribute\n",
    "\n",
    "    def __repr__(self):\n",
    "        return \"我是Person的實體\"\n",
    "\n",
    "p1 = Person(\"徐國堂\")#建立實體\n",
    "print(p1.name)\n",
    "\n",
    "p2 = Person(\"Robert Hsu\")#建立實體\n",
    "print(p2.name)"
   ]
  },
  {
   "cell_type": "code",
   "execution_count": 10,
   "metadata": {},
   "outputs": [
    {
     "name": "stdout",
     "output_type": "stream",
     "text": [
      "我是Person的實體\n",
      "我是Person的實體\n"
     ]
    }
   ],
   "source": [
    "print(p1)\n",
    "print(p2)"
   ]
  }
 ],
 "metadata": {
  "kernelspec": {
   "display_name": "Python 3",
   "language": "python",
   "name": "python3"
  },
  "language_info": {
   "name": "python",
   "version": "3.10.13"
  }
 },
 "nbformat": 4,
 "nbformat_minor": 2
}
