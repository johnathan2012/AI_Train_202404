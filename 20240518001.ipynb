{
 "cells": [
  {
   "cell_type": "code",
   "execution_count": 1,
   "metadata": {},
   "outputs": [
    {
     "data": {
      "text/plain": [
       "['M',\n",
       " 'y',\n",
       " ' ',\n",
       " 'n',\n",
       " 'a',\n",
       " 'm',\n",
       " 'e',\n",
       " ' ',\n",
       " 'i',\n",
       " 's',\n",
       " ' ',\n",
       " 'J',\n",
       " 'o',\n",
       " 'h',\n",
       " 'n',\n",
       " 'a',\n",
       " 't',\n",
       " 'h',\n",
       " 'a',\n",
       " 'n',\n",
       " ' ',\n",
       " 'C',\n",
       " 'h',\n",
       " 'e',\n",
       " 'n',\n",
       " '!']"
      ]
     },
     "execution_count": 1,
     "metadata": {},
     "output_type": "execute_result"
    }
   ],
   "source": [
    "list(\"My name is Johnathan Chen!\")"
   ]
  },
  {
   "cell_type": "code",
   "execution_count": 2,
   "metadata": {},
   "outputs": [
    {
     "name": "stdout",
     "output_type": "stream",
     "text": [
      "Johnathan\n",
      "50\n",
      "158\n"
     ]
    }
   ],
   "source": [
    "#Disassembling\n",
    "(name,age,height)=(\"Johnathan\",50,158)\n",
    "print(name)\n",
    "print(age)\n",
    "print(height)"
   ]
  },
  {
   "cell_type": "code",
   "execution_count": 3,
   "metadata": {},
   "outputs": [
    {
     "name": "stdout",
     "output_type": "stream",
     "text": [
      "<class 'list'>\n",
      "['apple', 'banana', 'orange', 'guava', 'pear', 'durain', 'kiwi']\n",
      "apple\n",
      "orange\n",
      "pear\n",
      "kiwi\n",
      "\n",
      "apple\n",
      "banana\n",
      "orange\n",
      "guava\n",
      "pear\n",
      "durain\n",
      "kiwi\n",
      "\n",
      "apple\n",
      "orange\n",
      "guava\n",
      "pear\n",
      "durain\n",
      "kiwi\n"
     ]
    }
   ],
   "source": [
    "fruits = ['apple','banana','orange','guava','pear','durain','kiwi']\n",
    "print(type(fruits))\n",
    "print(fruits)\n",
    "len(fruits)\n",
    "fruits[6]\n",
    "fruits\n",
    "a=len(fruits)\n",
    "for i in range(0,a,2):\n",
    "    print(fruits[i])\n",
    "print()\n",
    "for i in fruits:\n",
    "    print(i)\n",
    "print()\n",
    "for i in fruits:\n",
    "    if not 'b' in i:\n",
    "        print(i)\n"
   ]
  },
  {
   "cell_type": "code",
   "execution_count": 10,
   "metadata": {},
   "outputs": [
    {
     "name": "stdout",
     "output_type": "stream",
     "text": [
      "0 1 2 3 4 5 6 \n",
      "1.2.3.4.5.6.7.8.9.\n",
      "1,3,5,7,9,"
     ]
    }
   ],
   "source": [
    "for i in range(7):\n",
    "    print(i,end=\" \")\n",
    "print()\n",
    "for i in range(1,10):\n",
    "    print(i,end=\".\")\n",
    "print()\n",
    "for i in range(1,10,2):\n",
    "    print(i,end=\",\")"
   ]
  }
 ],
 "metadata": {
  "kernelspec": {
   "display_name": "Python 3",
   "language": "python",
   "name": "python3"
  },
  "language_info": {
   "codemirror_mode": {
    "name": "ipython",
    "version": 3
   },
   "file_extension": ".py",
   "mimetype": "text/x-python",
   "name": "python",
   "nbconvert_exporter": "python",
   "pygments_lexer": "ipython3",
   "version": "3.10.13"
  }
 },
 "nbformat": 4,
 "nbformat_minor": 2
}
